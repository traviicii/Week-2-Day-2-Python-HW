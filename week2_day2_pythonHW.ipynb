{
 "cells": [
  {
   "cell_type": "markdown",
   "id": "a12b246e",
   "metadata": {},
   "source": [
    "Exercise 1\n",
    "Given a list as a parameter,write a function that returns a list of numbers that are less than ten\n",
    "\n",
    "\n",
    "For example: Say your input parameter to the function is [1,11,14,5,8,9]...Your output should [1,5,8,9]"
   ]
  },
  {
   "cell_type": "code",
   "execution_count": 7,
   "id": "c4458d01",
   "metadata": {},
   "outputs": [
    {
     "name": "stdout",
     "output_type": "stream",
     "text": [
      "[1, 5, 8, 9]\n",
      "[1, 5, 8, 9]\n"
     ]
    }
   ],
   "source": [
    "# Use the following list - [1,11,14,5,8,9]\n",
    "\n",
    "list1 = [1,11,14,5,8,9]\n",
    "\n",
    "list2 = []\n",
    "\n",
    "for i in list1:\n",
    "    if i < 10:\n",
    "        list2 += [i]\n",
    "\n",
    "print(list2)\n",
    "\n",
    "#---------------------------#\n",
    "\n",
    "list1 = [1,11,14,5,8,9]\n",
    "\n",
    "list2 = [i for i in list1 if i < 10]\n",
    "\n",
    "print(list2)"
   ]
  },
  {
   "cell_type": "markdown",
   "id": "4d7892f1",
   "metadata": {},
   "source": [
    "Exercise 2\n",
    "Write a function that takes in two lists and returns the two lists merged together and sorted\n",
    "Hint: You can use the .sort() method"
   ]
  },
  {
   "cell_type": "code",
   "execution_count": 37,
   "id": "c295e660",
   "metadata": {},
   "outputs": [
    {
     "name": "stdout",
     "output_type": "stream",
     "text": [
      "[1, 2, 3, 3, 4, 4, 5, 5, 6, 6, 7, 8, 10]\n",
      "\n",
      "Here's an inventory of numbers I've collected:\n",
      "There is only 1 - 1.\n",
      "There is only 1 - 2.\n",
      "There are 2 - 3's.\n",
      "There are 2 - 4's.\n",
      "There are 2 - 5's.\n",
      "There are 2 - 6's.\n",
      "There is only 1 - 7.\n",
      "There is only 1 - 8.\n",
      "There is only 1 - 10.\n",
      "\n",
      "Now I'll know if you steal any of them, you rotten theif! >_<\n"
     ]
    }
   ],
   "source": [
    "l_1 = [1,2,3,4,5,6]\n",
    "l_2 = [3,4,5,6,7,8,10]\n",
    "\n",
    "new = l_1 + l_2\n",
    "new.sort()\n",
    "print(new)\n",
    "\n",
    "print(\"\\nHere's an inventory of numbers I've collected:\")\n",
    "for i in range(len(new)):\n",
    "    if new.count(i) == 1:\n",
    "        print(f\"There is only {new.count(i)} - {i}.\")\n",
    "    elif new.count(i) > 1:\n",
    "        print(f\"There are {new.count(i)} - {i}'s.\")\n",
    "        \n",
    "    \n",
    "print(\"\\nNow I'll know if you steal any of them, you rotten theif! >_<\")"
   ]
  }
 ],
 "metadata": {
  "kernelspec": {
   "display_name": "Python 3 (ipykernel)",
   "language": "python",
   "name": "python3"
  },
  "language_info": {
   "codemirror_mode": {
    "name": "ipython",
    "version": 3
   },
   "file_extension": ".py",
   "mimetype": "text/x-python",
   "name": "python",
   "nbconvert_exporter": "python",
   "pygments_lexer": "ipython3",
   "version": "3.9.7"
  }
 },
 "nbformat": 4,
 "nbformat_minor": 5
}
